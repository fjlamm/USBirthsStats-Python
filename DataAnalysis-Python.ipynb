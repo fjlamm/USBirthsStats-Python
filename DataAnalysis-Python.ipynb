{
 "cells": [
  {
   "cell_type": "code",
   "execution_count": 1,
   "metadata": {
    "collapsed": false
   },
   "outputs": [
    {
     "data": {
      "text/plain": [
       "[[1994, 1, 1, 6, 8096],\n",
       " [1994, 1, 2, 7, 7772],\n",
       " [1994, 1, 3, 1, 10142],\n",
       " [1994, 1, 4, 2, 11248],\n",
       " [1994, 1, 5, 3, 11053],\n",
       " [1994, 1, 6, 4, 11406],\n",
       " [1994, 1, 7, 5, 11251],\n",
       " [1994, 1, 8, 6, 8653],\n",
       " [1994, 1, 9, 7, 7910],\n",
       " [1994, 1, 10, 1, 10498]]"
      ]
     },
     "execution_count": 1,
     "metadata": {},
     "output_type": "execute_result"
    }
   ],
   "source": [
    "def read_csv(strVar):\n",
    "    f=open(strVar)\n",
    "    fileContent=f.read()\n",
    "    string_list=fileContent.split('\\n')\n",
    "    string_list=string_list[1:]\n",
    "    final_list=[]\n",
    "    for var in string_list:\n",
    "        int_fields=[]\n",
    "        string_fields=[]\n",
    "        string_fields=var.split(',')\n",
    "        for i in range(0,len(string_fields)):\n",
    "            int_fields.append(int(string_fields[i]))\n",
    "        final_list.append(int_fields)\n",
    "    return(final_list)\n",
    "\n",
    "cdc_list=read_csv(\"US_births_1994-2003_CDC_NCHS.csv\")\n",
    "cdc_list[0:10]"
   ]
  },
  {
   "cell_type": "code",
   "execution_count": 2,
   "metadata": {
    "collapsed": false
   },
   "outputs": [
    {
     "data": {
      "text/plain": [
       "{1: 3232517,\n",
       " 2: 3018140,\n",
       " 3: 3322069,\n",
       " 4: 3185314,\n",
       " 5: 3350907,\n",
       " 6: 3296530,\n",
       " 7: 3498783,\n",
       " 8: 3525858,\n",
       " 9: 3439698,\n",
       " 10: 3378814,\n",
       " 11: 3171647,\n",
       " 12: 3301860}"
      ]
     },
     "execution_count": 2,
     "metadata": {},
     "output_type": "execute_result"
    }
   ],
   "source": [
    "def month_births(inputList):\n",
    "    births_per_month={}\n",
    "    for myVar in inputList:\n",
    "        month=myVar[1]\n",
    "        births=myVar[4]\n",
    "        if month in births_per_month:\n",
    "            births_per_month[month]+=births\n",
    "        else:\n",
    "            births_per_month[month]=births\n",
    "    return(births_per_month)\n",
    "\n",
    "cdc_month_births=month_births(cdc_list)\n",
    "cdc_month_births"
   ]
  },
  {
   "cell_type": "code",
   "execution_count": 3,
   "metadata": {
    "collapsed": false
   },
   "outputs": [
    {
     "data": {
      "text/plain": [
       "{1: 5789166,\n",
       " 2: 6446196,\n",
       " 3: 6322855,\n",
       " 4: 6288429,\n",
       " 5: 6233657,\n",
       " 6: 4562111,\n",
       " 7: 4079723}"
      ]
     },
     "execution_count": 3,
     "metadata": {},
     "output_type": "execute_result"
    }
   ],
   "source": [
    "def dow_births(inputList):\n",
    "    births_per_dow={}\n",
    "    for myVar in inputList:\n",
    "        dow=myVar[3]\n",
    "        births=myVar[4]\n",
    "        if dow in births_per_dow:\n",
    "            births_per_dow[dow]+=births\n",
    "        else:\n",
    "            births_per_dow[dow]=births\n",
    "    return(births_per_dow)\n",
    "\n",
    "cdc_day_births=dow_births(cdc_list)\n",
    "cdc_day_births"
   ]
  },
  {
   "cell_type": "code",
   "execution_count": 4,
   "metadata": {
    "collapsed": false
   },
   "outputs": [
    {
     "data": {
      "text/plain": [
       "{1994: 3952767,\n",
       " 1995: 3899589,\n",
       " 1996: 3891494,\n",
       " 1997: 3880894,\n",
       " 1998: 3941553,\n",
       " 1999: 3959417,\n",
       " 2000: 4058814,\n",
       " 2001: 4025933,\n",
       " 2002: 4021726,\n",
       " 2003: 4089950}"
      ]
     },
     "execution_count": 4,
     "metadata": {},
     "output_type": "execute_result"
    }
   ],
   "source": [
    "def calc_counts(data,column):\n",
    "    births_per_var={}\n",
    "    for myVar in data:\n",
    "        selectedVar=myVar[column]\n",
    "        births=myVar[4]\n",
    "        if selectedVar in births_per_var:\n",
    "            births_per_var[selectedVar]+=births\n",
    "        else:\n",
    "            births_per_var[selectedVar]=births\n",
    "    return(births_per_var)\n",
    "cdc_year_births=calc_counts(cdc_list,0)\n",
    "cdc_month_births=calc_counts(cdc_list,1)\n",
    "cdc_dom_births=calc_counts(cdc_list,2)\n",
    "cdc_dow_births=calc_counts(cdc_list,3)\n",
    "cdc_year_births"
   ]
  },
  {
   "cell_type": "code",
   "execution_count": 5,
   "metadata": {
    "collapsed": false
   },
   "outputs": [
    {
     "data": {
      "text/plain": [
       "{1: 3232517,\n",
       " 2: 3018140,\n",
       " 3: 3322069,\n",
       " 4: 3185314,\n",
       " 5: 3350907,\n",
       " 6: 3296530,\n",
       " 7: 3498783,\n",
       " 8: 3525858,\n",
       " 9: 3439698,\n",
       " 10: 3378814,\n",
       " 11: 3171647,\n",
       " 12: 3301860}"
      ]
     },
     "execution_count": 5,
     "metadata": {},
     "output_type": "execute_result"
    }
   ],
   "source": [
    "cdc_month_births"
   ]
  },
  {
   "cell_type": "code",
   "execution_count": 6,
   "metadata": {
    "collapsed": false
   },
   "outputs": [
    {
     "data": {
      "text/plain": [
       "{1: 1276557,\n",
       " 2: 1288739,\n",
       " 3: 1304499,\n",
       " 4: 1288154,\n",
       " 5: 1299953,\n",
       " 6: 1304474,\n",
       " 7: 1310459,\n",
       " 8: 1312297,\n",
       " 9: 1303292,\n",
       " 10: 1320764,\n",
       " 11: 1314361,\n",
       " 12: 1318437,\n",
       " 13: 1277684,\n",
       " 14: 1320153,\n",
       " 15: 1319171,\n",
       " 16: 1315192,\n",
       " 17: 1324953,\n",
       " 18: 1326855,\n",
       " 19: 1318727,\n",
       " 20: 1324821,\n",
       " 21: 1322897,\n",
       " 22: 1317381,\n",
       " 23: 1293290,\n",
       " 24: 1288083,\n",
       " 25: 1272116,\n",
       " 26: 1284796,\n",
       " 27: 1294395,\n",
       " 28: 1307685,\n",
       " 29: 1223161,\n",
       " 30: 1202095,\n",
       " 31: 746696}"
      ]
     },
     "execution_count": 6,
     "metadata": {},
     "output_type": "execute_result"
    }
   ],
   "source": [
    "cdc_dom_births"
   ]
  },
  {
   "cell_type": "code",
   "execution_count": 7,
   "metadata": {
    "collapsed": false
   },
   "outputs": [
    {
     "data": {
      "text/plain": [
       "{1: 5789166,\n",
       " 2: 6446196,\n",
       " 3: 6322855,\n",
       " 4: 6288429,\n",
       " 5: 6233657,\n",
       " 6: 4562111,\n",
       " 7: 4079723}"
      ]
     },
     "execution_count": 7,
     "metadata": {},
     "output_type": "execute_result"
    }
   ],
   "source": [
    "cdc_dow_births"
   ]
  },
  {
   "cell_type": "code",
   "execution_count": 8,
   "metadata": {
    "collapsed": false
   },
   "outputs": [
    {
     "data": {
      "text/plain": [
       "{1997: 3880894, 2003: 4089950}"
      ]
     },
     "execution_count": 8,
     "metadata": {},
     "output_type": "execute_result"
    }
   ],
   "source": [
    "def calcMM(inputDic):\n",
    "    returnVar={}\n",
    "    maxPosition=list(inputDic.keys())[0]\n",
    "    minPosition=list(inputDic.keys())[0]\n",
    "    myMin=inputDic[minPosition]\n",
    "    myMax=inputDic[maxPosition]\n",
    "    for myVar in inputDic:\n",
    "        if inputDic[myVar]>myMax:\n",
    "            myMax=inputDic[myVar]\n",
    "            maxPosition=myVar \n",
    "        if inputDic[myVar]<myMin:\n",
    "            myMin=inputDic[myVar]\n",
    "            minPosition=myVar\n",
    "            \n",
    "    returnVar[maxPosition]=myMax\n",
    "    returnVar[minPosition]=myMin\n",
    "    return returnVar\n",
    "\n",
    "minmaxYear=calcMM(cdc_year_births)\n",
    "minmaxYear\n",
    "\n",
    "\n",
    "            "
   ]
  },
  {
   "cell_type": "code",
   "execution_count": 9,
   "metadata": {
    "collapsed": false
   },
   "outputs": [
    {
     "data": {
      "text/plain": [
       "{2: 3018140, 8: 3525858}"
      ]
     },
     "execution_count": 9,
     "metadata": {},
     "output_type": "execute_result"
    }
   ],
   "source": [
    "minmaxMonth=calcMM(cdc_month_births)\n",
    "minmaxMonth"
   ]
  },
  {
   "cell_type": "code",
   "execution_count": 10,
   "metadata": {
    "collapsed": false
   },
   "outputs": [
    {
     "data": {
      "text/plain": [
       "{18: 1326855, 31: 746696}"
      ]
     },
     "execution_count": 10,
     "metadata": {},
     "output_type": "execute_result"
    }
   ],
   "source": [
    "minmaxDOM=calcMM(cdc_dom_births)\n",
    "minmaxDOM\n"
   ]
  },
  {
   "cell_type": "code",
   "execution_count": 16,
   "metadata": {
    "collapsed": false
   },
   "outputs": [
    {
     "data": {
      "text/plain": [
       "{'1994-1995': 5580,\n",
       " '1995-1996': 4618,\n",
       " '1996-1997': -12316,\n",
       " '1997-1998': -5342,\n",
       " '1998-1999': -6835,\n",
       " '1999-2000': -14622,\n",
       " '2000-2001': 4852,\n",
       " '2001-2002': 2851,\n",
       " '2002-2003': -27260}"
      ]
     },
     "execution_count": 16,
     "metadata": {},
     "output_type": "execute_result"
    }
   ],
   "source": [
    "def trendFunction(inputList,column,myVal):\n",
    "    newDic={}\n",
    "    for myVar in inputList:\n",
    "        if myVar[0] in newDic:\n",
    "            if myVar[column]==myVal:\n",
    "                newDic[myVar[0]]+=myVar[4]\n",
    "        else:\n",
    "            if myVar[column]==myVal:\n",
    "                newDic[myVar[0]]=myVar[4]\n",
    "    yearVal=1994\n",
    "    outDic={}\n",
    "    while yearVal<=2002:\n",
    "        tempVal=newDic[yearVal]-newDic[yearVal+1]\n",
    "        outDic[str(yearVal)+'-'+str(yearVal+1)]=tempVal\n",
    "        yearVal+=1\n",
    "    return outDic\n",
    "    \n",
    "trendFunction(cdc_list,3,3)\n",
    "\n",
    "  "
   ]
  },
  {
   "cell_type": "code",
   "execution_count": null,
   "metadata": {
    "collapsed": true
   },
   "outputs": [],
   "source": []
  }
 ],
 "metadata": {
  "anaconda-cloud": {},
  "kernelspec": {
   "display_name": "Python 3",
   "language": "python",
   "name": "python3"
  },
  "language_info": {
   "codemirror_mode": {
    "name": "ipython",
    "version": 3
   },
   "file_extension": ".py",
   "mimetype": "text/x-python",
   "name": "python",
   "nbconvert_exporter": "python",
   "pygments_lexer": "ipython3",
   "version": "3.4.3"
  }
 },
 "nbformat": 4,
 "nbformat_minor": 1
}
